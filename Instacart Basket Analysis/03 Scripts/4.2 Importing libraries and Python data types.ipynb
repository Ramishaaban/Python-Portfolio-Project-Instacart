{
 "cells": [
  {
   "cell_type": "markdown",
   "id": "16717a9a",
   "metadata": {},
   "source": [
    "# 01. Importing libraries"
   ]
  },
  {
   "cell_type": "code",
   "execution_count": 2,
   "id": "452070c9",
   "metadata": {},
   "outputs": [],
   "source": [
    "# Import libraries\n",
    "import pandas as pd\n",
    "import numpy as np\n",
    "import os"
   ]
  },
  {
   "cell_type": "markdown",
   "id": "81ea2866",
   "metadata": {},
   "source": [
    "# 02.Working with Python data types"
   ]
  },
  {
   "cell_type": "code",
   "execution_count": 4,
   "id": "1c9f626a",
   "metadata": {},
   "outputs": [
    {
     "data": {
      "text/plain": [
       "100"
      ]
     },
     "execution_count": 4,
     "metadata": {},
     "output_type": "execute_result"
    }
   ],
   "source": [
    "10+40+50"
   ]
  },
  {
   "cell_type": "code",
   "execution_count": 5,
   "id": "fc706852",
   "metadata": {},
   "outputs": [
    {
     "name": "stdout",
     "output_type": "stream",
     "text": [
      "100\n"
     ]
    }
   ],
   "source": [
    "x,y,z=60,30,10\n",
    "print(x+y+z)"
   ]
  },
  {
   "cell_type": "code",
   "execution_count": 6,
   "id": "a86aa328",
   "metadata": {},
   "outputs": [
    {
     "name": "stdout",
     "output_type": "stream",
     "text": [
      "100\n"
     ]
    }
   ],
   "source": [
    "k,d=200,100\n",
    "print(k-d)"
   ]
  },
  {
   "cell_type": "code",
   "execution_count": 7,
   "id": "6b6638cd",
   "metadata": {},
   "outputs": [
    {
     "name": "stdout",
     "output_type": "stream",
     "text": [
      "1.6463662200568412\n"
     ]
    }
   ],
   "source": [
    "n=40.55\n",
    "m=24.63\n",
    "print(n/m)"
   ]
  },
  {
   "cell_type": "code",
   "execution_count": 21,
   "id": "8597ea1a",
   "metadata": {},
   "outputs": [
    {
     "name": "stdout",
     "output_type": "stream",
     "text": [
      "ice\n"
     ]
    }
   ],
   "source": [
    "o,p,q='i','c','e'\n",
    "print(o+p+q)"
   ]
  },
  {
   "cell_type": "code",
   "execution_count": 18,
   "id": "a4ac08bd",
   "metadata": {},
   "outputs": [
    {
     "name": "stdout",
     "output_type": "stream",
     "text": [
      "I like lemon ice\n"
     ]
    }
   ],
   "source": [
    "a,b,c,d='I',' like',' lemon',' ice'\n",
    "print(a+b+c+d)"
   ]
  },
  {
   "cell_type": "code",
   "execution_count": 27,
   "id": "77ed50f8",
   "metadata": {},
   "outputs": [
    {
     "name": "stdout",
     "output_type": "stream",
     "text": [
      "Bouns_TaskBouns_TaskBouns_TaskBouns_TaskBouns_TaskBouns_TaskBouns_TaskBouns_TaskBouns_TaskBouns_TaskBouns_TaskBouns_TaskBouns_TaskBouns_TaskBouns_TaskBouns_TaskBouns_TaskBouns_TaskBouns_TaskBouns_TaskBouns_TaskBouns_TaskBouns_TaskBouns_TaskBouns_TaskBouns_TaskBouns_TaskBouns_TaskBouns_TaskBouns_TaskBouns_TaskBouns_TaskBouns_TaskBouns_TaskBouns_TaskBouns_TaskBouns_TaskBouns_TaskBouns_TaskBouns_TaskBouns_TaskBouns_TaskBouns_TaskBouns_TaskBouns_TaskBouns_TaskBouns_TaskBouns_TaskBouns_TaskBouns_TaskBouns_TaskBouns_TaskBouns_TaskBouns_TaskBouns_TaskBouns_TaskBouns_TaskBouns_TaskBouns_TaskBouns_TaskBouns_TaskBouns_TaskBouns_TaskBouns_TaskBouns_TaskBouns_TaskBouns_TaskBouns_TaskBouns_TaskBouns_TaskBouns_TaskBouns_TaskBouns_TaskBouns_TaskBouns_TaskBouns_TaskBouns_TaskBouns_TaskBouns_TaskBouns_TaskBouns_TaskBouns_TaskBouns_TaskBouns_TaskBouns_TaskBouns_TaskBouns_TaskBouns_TaskBouns_TaskBouns_TaskBouns_TaskBouns_TaskBouns_TaskBouns_TaskBouns_TaskBouns_TaskBouns_TaskBouns_TaskBouns_TaskBouns_Task\n"
     ]
    }
   ],
   "source": [
    "T='Bouns_Task'\n",
    "print(100*T)"
   ]
  },
  {
   "cell_type": "code",
   "execution_count": null,
   "id": "1968cbf8",
   "metadata": {},
   "outputs": [],
   "source": []
  }
 ],
 "metadata": {
  "kernelspec": {
   "display_name": "Python 3 (ipykernel)",
   "language": "python",
   "name": "python3"
  },
  "language_info": {
   "codemirror_mode": {
    "name": "ipython",
    "version": 3
   },
   "file_extension": ".py",
   "mimetype": "text/x-python",
   "name": "python",
   "nbconvert_exporter": "python",
   "pygments_lexer": "ipython3",
   "version": "3.11.4"
  }
 },
 "nbformat": 4,
 "nbformat_minor": 5
}
